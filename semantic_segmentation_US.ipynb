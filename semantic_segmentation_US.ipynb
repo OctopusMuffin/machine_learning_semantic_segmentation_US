{
  "nbformat": 4,
  "nbformat_minor": 0,
  "metadata": {
    "colab": {
      "name": "semantic_segmentation_USG.ipynb",
      "provenance": [],
      "collapsed_sections": []
    },
    "kernelspec": {
      "name": "python3",
      "display_name": "Python 3"
    },
    "accelerator": "GPU"
  },
  "cells": [
    {
      "cell_type": "code",
      "metadata": {
        "colab": {
          "base_uri": "https://localhost:8080/"
        },
        "id": "sboqMRaAzUob",
        "outputId": "9f5f0214-c57e-48b2-e7e0-297b2450009d"
      },
      "source": [
        "from google.colab import drive\r\n",
        "drive.mount('/content/drive')"
      ],
      "execution_count": null,
      "outputs": [
        {
          "output_type": "stream",
          "text": [
            "Drive already mounted at /content/drive; to attempt to forcibly remount, call drive.mount(\"/content/drive\", force_remount=True).\n"
          ],
          "name": "stdout"
        }
      ]
    },
    {
      "cell_type": "code",
      "metadata": {
        "id": "ivpC7ZRH1pkI"
      },
      "source": [
        "#!unrar x \"/content/drive/My Drive/BUSI_segreg_balanced.rar\" \"drive/My Drive\""
      ],
      "execution_count": null,
      "outputs": []
    },
    {
      "cell_type": "code",
      "metadata": {
        "id": "WSJR2bTnz8tJ"
      },
      "source": [
        "#DATA"
      ],
      "execution_count": null,
      "outputs": []
    },
    {
      "cell_type": "code",
      "metadata": {
        "id": "HkiiaBNFyArP"
      },
      "source": [
        "import os\r\n",
        "import numpy as np\r\n",
        "import cv2\r\n",
        "from glob import glob\r\n",
        "import tensorflow as tf\r\n",
        "from sklearn.model_selection import train_test_split\r\n",
        "import random"
      ],
      "execution_count": null,
      "outputs": []
    },
    {
      "cell_type": "code",
      "metadata": {
        "id": "2jY2lkr2ybtv"
      },
      "source": [
        "def load_data(path, split=0.1):\r\n",
        "    images = sorted(glob(os.path.join(path, \"/content/drive/My Drive/BUSI_segreg_balanced/all orig/*\")))\r\n",
        "    masks = sorted(glob(os.path.join(path, \"/content/drive/My Drive/BUSI_segreg_balanced/all masks/*\")))\r\n",
        "\r\n",
        "    total_size = len(images)\r\n",
        "    valid_size = int(split * total_size)\r\n",
        "    test_size = int(split * total_size)\r\n",
        "\r\n",
        "    train_x, valid_x = train_test_split(images, test_size=valid_size, random_state=42)\r\n",
        "    train_y, valid_y = train_test_split(masks, test_size=valid_size, random_state=42)\r\n",
        "\r\n",
        "    train_x, test_x = train_test_split(train_x, test_size=test_size, random_state=42)\r\n",
        "    train_y, test_y = train_test_split(train_y, test_size=test_size, random_state=42)\r\n",
        "\r\n",
        "    return (train_x, train_y), (valid_x, valid_y), (test_x, test_y)"
      ],
      "execution_count": null,
      "outputs": []
    },
    {
      "cell_type": "code",
      "metadata": {
        "id": "-Bfj5eoGyeJ4"
      },
      "source": [
        "def read_image(path):\r\n",
        "     path = path.decode()\r\n",
        "     x = cv2.imread(path, cv2.IMREAD_COLOR)\r\n",
        "     x = cv2.resize(x, (256, 256))\r\n",
        "     x = x/255.0\r\n",
        "     return x"
      ],
      "execution_count": null,
      "outputs": []
    },
    {
      "cell_type": "code",
      "metadata": {
        "id": "hnPbY_MVnoCy"
      },
      "source": [
        "def read_mask(path):\r\n",
        "     path = path.decode()\r\n",
        "     x = cv2.imread(path, cv2.IMREAD_GRAYSCALE)\r\n",
        "     x = cv2.resize(x, (256, 256))\r\n",
        "     x = x/255.0\r\n",
        "     x = np.expand_dims(x, axis=-1)\r\n",
        "     return x"
      ],
      "execution_count": null,
      "outputs": []
    },
    {
      "cell_type": "code",
      "metadata": {
        "id": "6z_oyWjkyj5u"
      },
      "source": [
        "def tf_parse(x, y):\r\n",
        "    def _parse(x, y):\r\n",
        "        x = read_image(x)\r\n",
        "        y = read_mask(y)\r\n",
        "        return x, y\r\n",
        "\r\n",
        "    x, y = tf.numpy_function(_parse, [x, y], [tf.float64, tf.float64])\r\n",
        "    x.set_shape([256, 256, 3])\r\n",
        "    y.set_shape([256, 256, 1])\r\n",
        "    return x, y\r\n",
        "\r\n",
        "def tf_dataset(x, y, batch=8):\r\n",
        "    dataset = tf.data.Dataset.from_tensor_slices((x, y))\r\n",
        "    dataset = dataset.map(tf_parse)\r\n",
        "    dataset = dataset.batch(batch)\r\n",
        "    dataset = dataset.repeat()\r\n",
        "    return dataset"
      ],
      "execution_count": null,
      "outputs": []
    },
    {
      "cell_type": "code",
      "metadata": {
        "id": "TtO0aPG_ymIx"
      },
      "source": [
        "#MODEL"
      ],
      "execution_count": null,
      "outputs": []
    },
    {
      "cell_type": "code",
      "metadata": {
        "id": "j2r4J3C_yoXq"
      },
      "source": [
        "import tensorflow as tf\r\n",
        "from tensorflow.keras.layers import *\r\n",
        "from tensorflow.keras.models import Model"
      ],
      "execution_count": null,
      "outputs": []
    },
    {
      "cell_type": "code",
      "metadata": {
        "id": "h0Uv--5NyqB1"
      },
      "source": [
        "def conv_block(x, num_filters):\r\n",
        "    x = Conv2D(num_filters, (3, 3), padding=\"same\")(x)\r\n",
        "    x = BatchNormalization()(x)\r\n",
        "    x = Activation(\"relu\")(x)\r\n",
        "\r\n",
        "    x = Conv2D(num_filters, (3, 3), padding=\"same\")(x)\r\n",
        "    x = BatchNormalization()(x)\r\n",
        "    x = Activation(\"relu\")(x)\r\n",
        "\r\n",
        "    return x"
      ],
      "execution_count": null,
      "outputs": []
    },
    {
      "cell_type": "code",
      "metadata": {
        "id": "1xTLdraWysUl"
      },
      "source": [
        "def build_model():\r\n",
        "    size = 256\r\n",
        "    num_filters = [16, 32, 48, 64]\r\n",
        "    inputs = Input((size, size, 3))\r\n",
        "\r\n",
        "    skip_x = []\r\n",
        "    x = inputs\r\n",
        "\r\n",
        "    ## Encoder\r\n",
        "    for f in num_filters:\r\n",
        "        x = conv_block(x, f)\r\n",
        "        skip_x.append(x)\r\n",
        "        x = MaxPool2D((2, 2))(x)\r\n",
        "\r\n",
        "    ## Bridge\r\n",
        "    x = conv_block(x, num_filters[-1])\r\n",
        "\r\n",
        "    num_filters.reverse()\r\n",
        "    skip_x.reverse()\r\n",
        "\r\n",
        "    ## Decoder\r\n",
        "    for i, f in enumerate(num_filters):\r\n",
        "        x = UpSampling2D((2, 2))(x)\r\n",
        "        xs = skip_x[i]\r\n",
        "        x = Concatenate()([x, xs])\r\n",
        "        x = conv_block(x, f)\r\n",
        "\r\n",
        "    ## Output\r\n",
        "    x = Conv2D(1, (1, 1), padding=\"same\")(x)\r\n",
        "    x = Activation(\"sigmoid\")(x)\r\n",
        "\r\n",
        "    return Model(inputs, x)"
      ],
      "execution_count": null,
      "outputs": []
    },
    {
      "cell_type": "code",
      "metadata": {
        "id": "AIE0QkvjyuS0"
      },
      "source": [
        "#TRAIN"
      ],
      "execution_count": null,
      "outputs": []
    },
    {
      "cell_type": "code",
      "metadata": {
        "id": "Qu0YoI8zyvRx"
      },
      "source": [
        "import os\r\n",
        "import numpy as np\r\n",
        "import cv2\r\n",
        "from glob import glob\r\n",
        "import tensorflow as tf\r\n",
        "from tensorflow.keras.callbacks import EarlyStopping, ModelCheckpoint, ReduceLROnPlateau, CSVLogger, TensorBoard"
      ],
      "execution_count": null,
      "outputs": []
    },
    {
      "cell_type": "code",
      "metadata": {
        "id": "zx9VMnaYyxOt"
      },
      "source": [
        "def iou(y_true, y_pred):\r\n",
        "     def f(y_true, y_pred):\r\n",
        "         intersection = (y_true * y_pred).sum()\r\n",
        "         union = y_true.sum() + y_pred.sum() - intersection\r\n",
        "         x = (intersection + 1e-15) / (union + 1e-15)\r\n",
        "         x = x.astype(np.float32)\r\n",
        "         return x\r\n",
        "         \r\n",
        "     return tf.numpy_function(f, [y_true, y_pred], tf.float32)"
      ],
      "execution_count": null,
      "outputs": []
    },
    {
      "cell_type": "code",
      "metadata": {
        "id": "AsqaZrbMyzDd"
      },
      "source": [
        "if __name__ == \"__main__\":\r\n",
        "     ## Dataset\r\n",
        "     path = \"/content/drive/My Drive/BUSI_segreg_balanced/\"\r\n",
        "     (train_x, train_y), (valid_x, valid_y), (test_x, test_y) = load_data(path)"
      ],
      "execution_count": null,
      "outputs": []
    },
    {
      "cell_type": "code",
      "metadata": {
        "id": "yuzeKUDXYASA"
      },
      "source": [
        "# loss=\"binary_crossentropy\"\r\n",
        "\r\n",
        "# learning_rates = [1e-4, 1e-3, 1e-6, 1e-5]\r\n",
        "# diff_num_filters = [[16, 32, 48, 64], [16, 32, 48]]\r\n",
        "# batches = [8, 16, 32, 4]\r\n",
        "# diff_epochs = [50, 100, 125]\r\n",
        "# size = 256\r\n",
        "\r\n",
        "# best_hparams = None\r\n",
        "# best_loss = sys.maxsize\r\n",
        "\r\n",
        "# for lr in learning_rates:\r\n",
        "#   for num_filters in diff_num_filters:\r\n",
        "#     for batch in batches:\r\n",
        "#       for epochs in diff_epochs:\r\n",
        "#         (train_x, train_y), (valid_x, valid_y), (test_x, test_y) = load_data(path)\r\n",
        "#         train_dataset = tf_dataset(train_x, train_y, batch=batch)\r\n",
        "#         valid_dataset = tf_dataset(valid_x, valid_y, batch=batch)\r\n",
        "#         train_steps = len(train_x)//batch\r\n",
        "#         valid_steps = len(valid_x)//batch\r\n",
        "\r\n",
        "#         if len(train_x) % batch != 0:\r\n",
        "#             train_steps += 1\r\n",
        "#         if len(valid_x) % batch != 0:\r\n",
        "#             valid_steps += 1\r\n",
        "\r\n",
        "\r\n",
        "#         identyfikator=str(time.time())\r\n",
        "#         print(identyfikator)\r\n",
        "#         print(f\"lr={lr}, num_filters={num_filters}, batch={batch}, epochs={epochs}, size={size}\")\r\n",
        "\r\n",
        "#         model=build_and_compile(size, num_filters, lr, loss)\r\n",
        "        \r\n",
        "\r\n",
        "#         callbacks = [\r\n",
        "#               ModelCheckpoint(f\"/content/drive/My Drive/BUSI_segreg_balanced/files/model-{identyfikator}.h5\"),\r\n",
        "#               ReduceLROnPlateau(monitor='val_loss', factor=0.1, patience=4),\r\n",
        "#               CSVLogger(f\"/content/drive/My Drive/BUSI_segreg_balanced/files/data-{identyfikator}.csv\"),\r\n",
        "#               TensorBoard(),\r\n",
        "#               EarlyStopping(monitor='val_loss', patience=10, restore_best_weights=True)\r\n",
        "#         ]\r\n",
        "\r\n",
        "#         history=train(batch, train_x, valid_x, train_dataset, valid_dataset, model, epochs, callbacks)\r\n",
        "#         with open(f'/content/drive/My Drive/BUSI_segreg_balanced/hist/hist-{identyfikator}', 'wb') as file_pi:\r\n",
        "#           pickle.dump(history.history, file_pi)\r\n",
        "#         val_loss=min(history.history['val_loss'])\r\n",
        "#         if best_hparams is None or val_loss < best_loss:\r\n",
        "#             best_hparams = (lr, num_filters, batch,  epochs, size)\r\n",
        "#             best_loss = val_loss\r\n",
        "#         print(f\"validation loss: {val_loss} for lr={lr}, num_filters={num_filters}, batch={batch}, epochs={epochs}, size={size}\")\r\n",
        "#         print(f\"best hparams: {best_hparams}\")\r\n",
        "\r\n",
        "# print(f\"best hparams: {best_hparams}\")"
      ],
      "execution_count": null,
      "outputs": []
    },
    {
      "cell_type": "code",
      "metadata": {
        "id": "pXttUryLy1BX"
      },
      "source": [
        "## Hyperparameters\r\n",
        "\r\n",
        "\r\n",
        "# najlepsza architektura wyłoniona z 'hyperparameters tuning':\r\n",
        "# validation loss for lr=1e-3, num_filters=[16, 32, 48, 64], batch=8, epochs=125, size=256\r\n",
        "\r\n",
        "batch = 8\r\n",
        "lr = 1e-3\r\n",
        "epochs = 125"
      ],
      "execution_count": null,
      "outputs": []
    },
    {
      "cell_type": "code",
      "metadata": {
        "id": "JXt7eoVxy5ls"
      },
      "source": [
        "train_dataset = tf_dataset(train_x, train_y, batch=batch)\r\n",
        "valid_dataset = tf_dataset(valid_x, valid_y, batch=batch)"
      ],
      "execution_count": null,
      "outputs": []
    },
    {
      "cell_type": "code",
      "metadata": {
        "id": "Dc4Q5EdZy9M9"
      },
      "source": [
        "model = build_model()\r\n",
        "opt = tf.keras.optimizers.Adam(lr)\r\n",
        "metrics = [\"acc\", tf.keras.metrics.Recall(), tf.keras.metrics.Precision(), iou]\r\n",
        "model.compile(loss=\"binary_crossentropy\", optimizer=opt, metrics=metrics)"
      ],
      "execution_count": null,
      "outputs": []
    },
    {
      "cell_type": "code",
      "metadata": {
        "id": "w-bdWUGUy-7Q"
      },
      "source": [
        "callbacks = [\r\n",
        "          ModelCheckpoint(\"/content/drive/My Drive/BUSI_segreg_balanced/files_best_archi/model.h5\"),\r\n",
        "          ReduceLROnPlateau(monitor='val_loss', factor=0.1, patience=4),\r\n",
        "          CSVLogger(\"/content/drive/My Drive/BUSI_segreg_balanced/files_best_archi/data.csv\"),\r\n",
        "          TensorBoard(),\r\n",
        "          EarlyStopping(monitor='val_loss', patience=10, restore_best_weights=True)\r\n",
        "     ]"
      ],
      "execution_count": null,
      "outputs": []
    },
    {
      "cell_type": "code",
      "metadata": {
        "id": "E57dyXTPzAxH",
        "colab": {
          "base_uri": "https://localhost:8080/"
        },
        "outputId": "19b8b766-0836-4f47-b8e7-2eb707f80002"
      },
      "source": [
        "train_steps = len(train_x)//batch\r\n",
        "valid_steps = len(valid_x)//batch\r\n",
        "\r\n",
        "if len(train_x) % batch != 0:\r\n",
        "    train_steps += 1\r\n",
        "if len(valid_x) % batch != 0:\r\n",
        "    valid_steps += 1\r\n",
        "\r\n",
        "history = model.fit(train_dataset,\r\n",
        "    validation_data=valid_dataset,\r\n",
        "    epochs=epochs,\r\n",
        "    steps_per_epoch=train_steps,\r\n",
        "    validation_steps=valid_steps,\r\n",
        "    callbacks=callbacks)"
      ],
      "execution_count": null,
      "outputs": [
        {
          "output_type": "stream",
          "text": [
            "Epoch 1/125\n",
            "41/41 [==============================] - 13s 193ms/step - loss: 0.3623 - acc: 0.9132 - recall: 0.1303 - precision: 0.2719 - iou: 0.0765 - val_loss: 0.4758 - val_acc: 0.9424 - val_recall: 0.0000e+00 - val_precision: 0.0000e+00 - val_iou: 0.0517\n",
            "Epoch 2/125\n",
            "41/41 [==============================] - 6s 154ms/step - loss: 0.2245 - acc: 0.9402 - recall: 0.3437 - precision: 0.6230 - iou: 0.1372 - val_loss: 0.3582 - val_acc: 0.9128 - val_recall: 0.2258 - val_precision: 0.2346 - val_iou: 0.0761\n",
            "Epoch 3/125\n",
            "41/41 [==============================] - 6s 154ms/step - loss: 0.1954 - acc: 0.9417 - recall: 0.3380 - precision: 0.6534 - iou: 0.1628 - val_loss: 1.0811 - val_acc: 0.7161 - val_recall: 0.4258 - val_precision: 0.0892 - val_iou: 0.0714\n",
            "Epoch 4/125\n",
            "41/41 [==============================] - 6s 153ms/step - loss: 0.1733 - acc: 0.9462 - recall: 0.4023 - precision: 0.6892 - iou: 0.1967 - val_loss: 0.6650 - val_acc: 0.6853 - val_recall: 0.8587 - val_precision: 0.1394 - val_iou: 0.1124\n",
            "Epoch 5/125\n",
            "41/41 [==============================] - 6s 157ms/step - loss: 0.1610 - acc: 0.9486 - recall: 0.4251 - precision: 0.7159 - iou: 0.2164 - val_loss: 0.3222 - val_acc: 0.8607 - val_recall: 0.4085 - val_precision: 0.1833 - val_iou: 0.1156\n",
            "Epoch 6/125\n",
            "41/41 [==============================] - 6s 152ms/step - loss: 0.1515 - acc: 0.9490 - recall: 0.4162 - precision: 0.7267 - iou: 0.2350 - val_loss: 0.2386 - val_acc: 0.9425 - val_recall: 0.2993 - val_precision: 0.5052 - val_iou: 0.1204\n",
            "Epoch 7/125\n",
            "41/41 [==============================] - 6s 153ms/step - loss: 0.1352 - acc: 0.9551 - recall: 0.5117 - precision: 0.7625 - iou: 0.2786 - val_loss: 0.2696 - val_acc: 0.9218 - val_recall: 0.5327 - val_precision: 0.3771 - val_iou: 0.1571\n",
            "Epoch 8/125\n",
            "41/41 [==============================] - 6s 155ms/step - loss: 0.1360 - acc: 0.9537 - recall: 0.4748 - precision: 0.7648 - iou: 0.2737 - val_loss: 0.1742 - val_acc: 0.9486 - val_recall: 0.3142 - val_precision: 0.6094 - val_iou: 0.1735\n",
            "Epoch 9/125\n",
            "41/41 [==============================] - 6s 157ms/step - loss: 0.1219 - acc: 0.9583 - recall: 0.5512 - precision: 0.7823 - iou: 0.3147 - val_loss: 0.1554 - val_acc: 0.9441 - val_recall: 0.5404 - val_precision: 0.5192 - val_iou: 0.2422\n",
            "Epoch 10/125\n",
            "41/41 [==============================] - 6s 156ms/step - loss: 0.1142 - acc: 0.9616 - recall: 0.5712 - precision: 0.8200 - iou: 0.3347 - val_loss: 0.1207 - val_acc: 0.9593 - val_recall: 0.4856 - val_precision: 0.7240 - val_iou: 0.3051\n",
            "Epoch 11/125\n",
            "41/41 [==============================] - 6s 156ms/step - loss: 0.1111 - acc: 0.9616 - recall: 0.5741 - precision: 0.8164 - iou: 0.3445 - val_loss: 0.1836 - val_acc: 0.9257 - val_recall: 0.5045 - val_precision: 0.3904 - val_iou: 0.2217\n",
            "Epoch 12/125\n",
            "41/41 [==============================] - 6s 154ms/step - loss: 0.1176 - acc: 0.9584 - recall: 0.5780 - precision: 0.7630 - iou: 0.3422 - val_loss: 0.1572 - val_acc: 0.9417 - val_recall: 0.7651 - val_precision: 0.5006 - val_iou: 0.3069\n",
            "Epoch 13/125\n",
            "41/41 [==============================] - 6s 155ms/step - loss: 0.0994 - acc: 0.9659 - recall: 0.6422 - precision: 0.8297 - iou: 0.3885 - val_loss: 0.1097 - val_acc: 0.9645 - val_recall: 0.4750 - val_precision: 0.8485 - val_iou: 0.3630\n",
            "Epoch 14/125\n",
            "41/41 [==============================] - 6s 157ms/step - loss: 0.0937 - acc: 0.9681 - recall: 0.6528 - precision: 0.8561 - iou: 0.4070 - val_loss: 0.1669 - val_acc: 0.9543 - val_recall: 0.2116 - val_precision: 0.9817 - val_iou: 0.1811\n",
            "Epoch 15/125\n",
            "41/41 [==============================] - 6s 154ms/step - loss: 0.0891 - acc: 0.9691 - recall: 0.6774 - precision: 0.8490 - iou: 0.4273 - val_loss: 0.1078 - val_acc: 0.9633 - val_recall: 0.4099 - val_precision: 0.9050 - val_iou: 0.3193\n",
            "Epoch 16/125\n",
            "41/41 [==============================] - 6s 154ms/step - loss: 0.1036 - acc: 0.9628 - recall: 0.6197 - precision: 0.7975 - iou: 0.3922 - val_loss: 0.1386 - val_acc: 0.9530 - val_recall: 0.7413 - val_precision: 0.5758 - val_iou: 0.2989\n",
            "Epoch 17/125\n",
            "41/41 [==============================] - 6s 154ms/step - loss: 0.0898 - acc: 0.9697 - recall: 0.6903 - precision: 0.8445 - iou: 0.4312 - val_loss: 0.1240 - val_acc: 0.9606 - val_recall: 0.3872 - val_precision: 0.8533 - val_iou: 0.2982\n",
            "Epoch 18/125\n",
            "41/41 [==============================] - 6s 155ms/step - loss: 0.0861 - acc: 0.9697 - recall: 0.6689 - precision: 0.8668 - iou: 0.4471 - val_loss: 0.1537 - val_acc: 0.9581 - val_recall: 0.2819 - val_precision: 0.9727 - val_iou: 0.2727\n",
            "Epoch 19/125\n",
            "41/41 [==============================] - 6s 157ms/step - loss: 0.0767 - acc: 0.9739 - recall: 0.7290 - precision: 0.8767 - iou: 0.4827 - val_loss: 0.2097 - val_acc: 0.9506 - val_recall: 0.1440 - val_precision: 0.9948 - val_iou: 0.1363\n",
            "Epoch 20/125\n",
            "41/41 [==============================] - 6s 155ms/step - loss: 0.0689 - acc: 0.9755 - recall: 0.7259 - precision: 0.9036 - iou: 0.5055 - val_loss: 0.1176 - val_acc: 0.9655 - val_recall: 0.4173 - val_precision: 0.9673 - val_iou: 0.3732\n",
            "Epoch 21/125\n",
            "41/41 [==============================] - 7s 159ms/step - loss: 0.0612 - acc: 0.9786 - recall: 0.7734 - precision: 0.9085 - iou: 0.5346 - val_loss: 0.1162 - val_acc: 0.9653 - val_recall: 0.4198 - val_precision: 0.9580 - val_iou: 0.3705\n",
            "Epoch 22/125\n",
            "41/41 [==============================] - 6s 155ms/step - loss: 0.0581 - acc: 0.9799 - recall: 0.7953 - precision: 0.9082 - iou: 0.5483 - val_loss: 0.1105 - val_acc: 0.9666 - val_recall: 0.4533 - val_precision: 0.9390 - val_iou: 0.3844\n",
            "Epoch 23/125\n",
            "41/41 [==============================] - 6s 157ms/step - loss: 0.0563 - acc: 0.9805 - recall: 0.8051 - precision: 0.9093 - iou: 0.5574 - val_loss: 0.1051 - val_acc: 0.9675 - val_recall: 0.4859 - val_precision: 0.9158 - val_iou: 0.3990\n",
            "Epoch 24/125\n",
            "41/41 [==============================] - 6s 155ms/step - loss: 0.0548 - acc: 0.9811 - recall: 0.8139 - precision: 0.9097 - iou: 0.5650 - val_loss: 0.1013 - val_acc: 0.9682 - val_recall: 0.5159 - val_precision: 0.8927 - val_iou: 0.4116\n",
            "Epoch 25/125\n",
            "41/41 [==============================] - 6s 155ms/step - loss: 0.0534 - acc: 0.9815 - recall: 0.8206 - precision: 0.9102 - iou: 0.5721 - val_loss: 0.0982 - val_acc: 0.9686 - val_recall: 0.5426 - val_precision: 0.8685 - val_iou: 0.4235\n",
            "Epoch 26/125\n",
            "41/41 [==============================] - 6s 153ms/step - loss: 0.0520 - acc: 0.9820 - recall: 0.8277 - precision: 0.9109 - iou: 0.5792 - val_loss: 0.0984 - val_acc: 0.9683 - val_recall: 0.5533 - val_precision: 0.8492 - val_iou: 0.4243\n",
            "Epoch 27/125\n",
            "41/41 [==============================] - 6s 155ms/step - loss: 0.0507 - acc: 0.9825 - recall: 0.8343 - precision: 0.9122 - iou: 0.5863 - val_loss: 0.0951 - val_acc: 0.9684 - val_recall: 0.5764 - val_precision: 0.8292 - val_iou: 0.4383\n",
            "Epoch 28/125\n",
            "41/41 [==============================] - 6s 156ms/step - loss: 0.0493 - acc: 0.9829 - recall: 0.8416 - precision: 0.9128 - iou: 0.5936 - val_loss: 0.0970 - val_acc: 0.9678 - val_recall: 0.5716 - val_precision: 0.8230 - val_iou: 0.4328\n",
            "Epoch 29/125\n",
            "41/41 [==============================] - 6s 154ms/step - loss: 0.0480 - acc: 0.9834 - recall: 0.8481 - precision: 0.9142 - iou: 0.6003 - val_loss: 0.0972 - val_acc: 0.9675 - val_recall: 0.5739 - val_precision: 0.8152 - val_iou: 0.4349\n",
            "Epoch 30/125\n",
            "41/41 [==============================] - 6s 155ms/step - loss: 0.0467 - acc: 0.9839 - recall: 0.8537 - precision: 0.9159 - iou: 0.6075 - val_loss: 0.0969 - val_acc: 0.9674 - val_recall: 0.5794 - val_precision: 0.8071 - val_iou: 0.4387\n",
            "Epoch 31/125\n",
            "41/41 [==============================] - 6s 154ms/step - loss: 0.0453 - acc: 0.9843 - recall: 0.8590 - precision: 0.9178 - iou: 0.6146 - val_loss: 0.0968 - val_acc: 0.9672 - val_recall: 0.5860 - val_precision: 0.7993 - val_iou: 0.4424\n",
            "Epoch 32/125\n",
            "41/41 [==============================] - 6s 156ms/step - loss: 0.0435 - acc: 0.9850 - recall: 0.8629 - precision: 0.9238 - iou: 0.6241 - val_loss: 0.0956 - val_acc: 0.9676 - val_recall: 0.5987 - val_precision: 0.7960 - val_iou: 0.4440\n",
            "Epoch 33/125\n",
            "41/41 [==============================] - 7s 158ms/step - loss: 0.0431 - acc: 0.9852 - recall: 0.8663 - precision: 0.9235 - iou: 0.6253 - val_loss: 0.0954 - val_acc: 0.9677 - val_recall: 0.6048 - val_precision: 0.7930 - val_iou: 0.4441\n",
            "Epoch 34/125\n",
            "41/41 [==============================] - 6s 154ms/step - loss: 0.0429 - acc: 0.9853 - recall: 0.8682 - precision: 0.9234 - iou: 0.6261 - val_loss: 0.0954 - val_acc: 0.9677 - val_recall: 0.6105 - val_precision: 0.7892 - val_iou: 0.4447\n",
            "Epoch 35/125\n",
            "41/41 [==============================] - 6s 155ms/step - loss: 0.0427 - acc: 0.9854 - recall: 0.8696 - precision: 0.9235 - iou: 0.6269 - val_loss: 0.0953 - val_acc: 0.9677 - val_recall: 0.6148 - val_precision: 0.7857 - val_iou: 0.4456\n",
            "Epoch 36/125\n",
            "41/41 [==============================] - 6s 156ms/step - loss: 0.0425 - acc: 0.9855 - recall: 0.8707 - precision: 0.9239 - iou: 0.6279 - val_loss: 0.0950 - val_acc: 0.9677 - val_recall: 0.6207 - val_precision: 0.7815 - val_iou: 0.4472\n",
            "Epoch 37/125\n",
            "41/41 [==============================] - 6s 156ms/step - loss: 0.0425 - acc: 0.9855 - recall: 0.8708 - precision: 0.9239 - iou: 0.6279 - val_loss: 0.0948 - val_acc: 0.9676 - val_recall: 0.6247 - val_precision: 0.7784 - val_iou: 0.4483\n",
            "Epoch 38/125\n",
            "41/41 [==============================] - 6s 157ms/step - loss: 0.0425 - acc: 0.9855 - recall: 0.8709 - precision: 0.9239 - iou: 0.6280 - val_loss: 0.0947 - val_acc: 0.9676 - val_recall: 0.6272 - val_precision: 0.7769 - val_iou: 0.4489\n",
            "Epoch 39/125\n",
            "41/41 [==============================] - 7s 158ms/step - loss: 0.0425 - acc: 0.9855 - recall: 0.8710 - precision: 0.9239 - iou: 0.6281 - val_loss: 0.0946 - val_acc: 0.9676 - val_recall: 0.6290 - val_precision: 0.7758 - val_iou: 0.4493\n",
            "Epoch 40/125\n",
            "41/41 [==============================] - 6s 155ms/step - loss: 0.0425 - acc: 0.9855 - recall: 0.8711 - precision: 0.9240 - iou: 0.6282 - val_loss: 0.0946 - val_acc: 0.9677 - val_recall: 0.6302 - val_precision: 0.7752 - val_iou: 0.4496\n",
            "Epoch 41/125\n",
            "41/41 [==============================] - 7s 162ms/step - loss: 0.0424 - acc: 0.9855 - recall: 0.8712 - precision: 0.9240 - iou: 0.6283 - val_loss: 0.0946 - val_acc: 0.9677 - val_recall: 0.6308 - val_precision: 0.7748 - val_iou: 0.4498\n",
            "Epoch 42/125\n",
            "41/41 [==============================] - 7s 162ms/step - loss: 0.0424 - acc: 0.9855 - recall: 0.8713 - precision: 0.9240 - iou: 0.6284 - val_loss: 0.0945 - val_acc: 0.9677 - val_recall: 0.6314 - val_precision: 0.7745 - val_iou: 0.4499\n",
            "Epoch 43/125\n",
            "41/41 [==============================] - 6s 156ms/step - loss: 0.0424 - acc: 0.9855 - recall: 0.8715 - precision: 0.9240 - iou: 0.6285 - val_loss: 0.0945 - val_acc: 0.9677 - val_recall: 0.6316 - val_precision: 0.7742 - val_iou: 0.4500\n",
            "Epoch 44/125\n",
            "41/41 [==============================] - 6s 156ms/step - loss: 0.0424 - acc: 0.9855 - recall: 0.8716 - precision: 0.9240 - iou: 0.6286 - val_loss: 0.0946 - val_acc: 0.9677 - val_recall: 0.6318 - val_precision: 0.7740 - val_iou: 0.4500\n",
            "Epoch 45/125\n",
            "41/41 [==============================] - 6s 155ms/step - loss: 0.0424 - acc: 0.9855 - recall: 0.8717 - precision: 0.9240 - iou: 0.6287 - val_loss: 0.0945 - val_acc: 0.9677 - val_recall: 0.6322 - val_precision: 0.7737 - val_iou: 0.4501\n",
            "Epoch 46/125\n",
            "41/41 [==============================] - 6s 156ms/step - loss: 0.0424 - acc: 0.9855 - recall: 0.8717 - precision: 0.9240 - iou: 0.6287 - val_loss: 0.0945 - val_acc: 0.9677 - val_recall: 0.6325 - val_precision: 0.7735 - val_iou: 0.4502\n",
            "Epoch 47/125\n",
            "41/41 [==============================] - 6s 157ms/step - loss: 0.0424 - acc: 0.9855 - recall: 0.8717 - precision: 0.9240 - iou: 0.6287 - val_loss: 0.0945 - val_acc: 0.9676 - val_recall: 0.6327 - val_precision: 0.7734 - val_iou: 0.4502\n",
            "Epoch 48/125\n",
            "41/41 [==============================] - 6s 155ms/step - loss: 0.0424 - acc: 0.9855 - recall: 0.8717 - precision: 0.9240 - iou: 0.6287 - val_loss: 0.0945 - val_acc: 0.9676 - val_recall: 0.6328 - val_precision: 0.7732 - val_iou: 0.4502\n",
            "Epoch 49/125\n",
            "41/41 [==============================] - 6s 156ms/step - loss: 0.0423 - acc: 0.9855 - recall: 0.8717 - precision: 0.9240 - iou: 0.6287 - val_loss: 0.0945 - val_acc: 0.9676 - val_recall: 0.6329 - val_precision: 0.7732 - val_iou: 0.4503\n",
            "Epoch 50/125\n",
            "41/41 [==============================] - 6s 155ms/step - loss: 0.0423 - acc: 0.9855 - recall: 0.8717 - precision: 0.9240 - iou: 0.6287 - val_loss: 0.0945 - val_acc: 0.9676 - val_recall: 0.6330 - val_precision: 0.7732 - val_iou: 0.4503\n",
            "Epoch 51/125\n",
            "41/41 [==============================] - 6s 156ms/step - loss: 0.0423 - acc: 0.9855 - recall: 0.8717 - precision: 0.9240 - iou: 0.6287 - val_loss: 0.0945 - val_acc: 0.9676 - val_recall: 0.6330 - val_precision: 0.7731 - val_iou: 0.4503\n",
            "Epoch 52/125\n",
            "41/41 [==============================] - 6s 157ms/step - loss: 0.0423 - acc: 0.9855 - recall: 0.8717 - precision: 0.9240 - iou: 0.6287 - val_loss: 0.0945 - val_acc: 0.9676 - val_recall: 0.6331 - val_precision: 0.7731 - val_iou: 0.4503\n",
            "Epoch 53/125\n",
            "41/41 [==============================] - 6s 155ms/step - loss: 0.0423 - acc: 0.9855 - recall: 0.8717 - precision: 0.9240 - iou: 0.6287 - val_loss: 0.0945 - val_acc: 0.9676 - val_recall: 0.6331 - val_precision: 0.7731 - val_iou: 0.4503\n",
            "Epoch 54/125\n",
            "41/41 [==============================] - 6s 156ms/step - loss: 0.0423 - acc: 0.9855 - recall: 0.8717 - precision: 0.9240 - iou: 0.6287 - val_loss: 0.0945 - val_acc: 0.9676 - val_recall: 0.6331 - val_precision: 0.7731 - val_iou: 0.4503\n",
            "Epoch 55/125\n",
            "41/41 [==============================] - 6s 156ms/step - loss: 0.0423 - acc: 0.9855 - recall: 0.8717 - precision: 0.9240 - iou: 0.6287 - val_loss: 0.0945 - val_acc: 0.9676 - val_recall: 0.6331 - val_precision: 0.7731 - val_iou: 0.4503\n",
            "Epoch 56/125\n",
            "41/41 [==============================] - 6s 157ms/step - loss: 0.0423 - acc: 0.9855 - recall: 0.8717 - precision: 0.9240 - iou: 0.6287 - val_loss: 0.0945 - val_acc: 0.9676 - val_recall: 0.6331 - val_precision: 0.7731 - val_iou: 0.4503\n",
            "Epoch 57/125\n",
            "41/41 [==============================] - 6s 155ms/step - loss: 0.0423 - acc: 0.9855 - recall: 0.8717 - precision: 0.9240 - iou: 0.6287 - val_loss: 0.0945 - val_acc: 0.9676 - val_recall: 0.6331 - val_precision: 0.7731 - val_iou: 0.4503\n",
            "Epoch 58/125\n",
            "41/41 [==============================] - 6s 156ms/step - loss: 0.0423 - acc: 0.9855 - recall: 0.8717 - precision: 0.9240 - iou: 0.6287 - val_loss: 0.0945 - val_acc: 0.9676 - val_recall: 0.6331 - val_precision: 0.7731 - val_iou: 0.4503\n",
            "Epoch 59/125\n",
            "41/41 [==============================] - 6s 155ms/step - loss: 0.0423 - acc: 0.9855 - recall: 0.8717 - precision: 0.9240 - iou: 0.6287 - val_loss: 0.0945 - val_acc: 0.9676 - val_recall: 0.6331 - val_precision: 0.7731 - val_iou: 0.4503\n",
            "Epoch 60/125\n",
            "41/41 [==============================] - 6s 155ms/step - loss: 0.0423 - acc: 0.9855 - recall: 0.8717 - precision: 0.9240 - iou: 0.6287 - val_loss: 0.0945 - val_acc: 0.9676 - val_recall: 0.6331 - val_precision: 0.7731 - val_iou: 0.4503\n",
            "Epoch 61/125\n",
            "41/41 [==============================] - 6s 157ms/step - loss: 0.0423 - acc: 0.9855 - recall: 0.8717 - precision: 0.9240 - iou: 0.6287 - val_loss: 0.0945 - val_acc: 0.9676 - val_recall: 0.6331 - val_precision: 0.7731 - val_iou: 0.4503\n",
            "Epoch 62/125\n",
            "41/41 [==============================] - 6s 156ms/step - loss: 0.0423 - acc: 0.9855 - recall: 0.8717 - precision: 0.9240 - iou: 0.6287 - val_loss: 0.0945 - val_acc: 0.9676 - val_recall: 0.6331 - val_precision: 0.7731 - val_iou: 0.4503\n",
            "Epoch 63/125\n",
            "41/41 [==============================] - 6s 155ms/step - loss: 0.0423 - acc: 0.9855 - recall: 0.8717 - precision: 0.9240 - iou: 0.6287 - val_loss: 0.0945 - val_acc: 0.9676 - val_recall: 0.6331 - val_precision: 0.7731 - val_iou: 0.4503\n",
            "Epoch 64/125\n",
            "41/41 [==============================] - 6s 157ms/step - loss: 0.0423 - acc: 0.9855 - recall: 0.8717 - precision: 0.9240 - iou: 0.6287 - val_loss: 0.0945 - val_acc: 0.9676 - val_recall: 0.6331 - val_precision: 0.7731 - val_iou: 0.4503\n",
            "Epoch 65/125\n",
            "41/41 [==============================] - 6s 156ms/step - loss: 0.0423 - acc: 0.9855 - recall: 0.8717 - precision: 0.9240 - iou: 0.6287 - val_loss: 0.0945 - val_acc: 0.9676 - val_recall: 0.6331 - val_precision: 0.7731 - val_iou: 0.4503\n",
            "Epoch 66/125\n",
            "41/41 [==============================] - 6s 156ms/step - loss: 0.0423 - acc: 0.9855 - recall: 0.8717 - precision: 0.9240 - iou: 0.6287 - val_loss: 0.0945 - val_acc: 0.9676 - val_recall: 0.6331 - val_precision: 0.7731 - val_iou: 0.4503\n",
            "Epoch 67/125\n",
            "41/41 [==============================] - 6s 155ms/step - loss: 0.0423 - acc: 0.9855 - recall: 0.8717 - precision: 0.9240 - iou: 0.6287 - val_loss: 0.0945 - val_acc: 0.9676 - val_recall: 0.6331 - val_precision: 0.7731 - val_iou: 0.4503\n",
            "Epoch 68/125\n",
            "41/41 [==============================] - 6s 155ms/step - loss: 0.0423 - acc: 0.9855 - recall: 0.8717 - precision: 0.9240 - iou: 0.6287 - val_loss: 0.0945 - val_acc: 0.9676 - val_recall: 0.6331 - val_precision: 0.7731 - val_iou: 0.4503\n",
            "Epoch 69/125\n",
            "41/41 [==============================] - 6s 156ms/step - loss: 0.0423 - acc: 0.9855 - recall: 0.8717 - precision: 0.9240 - iou: 0.6287 - val_loss: 0.0945 - val_acc: 0.9676 - val_recall: 0.6331 - val_precision: 0.7731 - val_iou: 0.4503\n",
            "Epoch 70/125\n",
            "41/41 [==============================] - 6s 157ms/step - loss: 0.0423 - acc: 0.9855 - recall: 0.8717 - precision: 0.9240 - iou: 0.6287 - val_loss: 0.0945 - val_acc: 0.9676 - val_recall: 0.6331 - val_precision: 0.7731 - val_iou: 0.4503\n",
            "Epoch 71/125\n",
            "41/41 [==============================] - 6s 156ms/step - loss: 0.0423 - acc: 0.9855 - recall: 0.8717 - precision: 0.9240 - iou: 0.6287 - val_loss: 0.0945 - val_acc: 0.9676 - val_recall: 0.6331 - val_precision: 0.7731 - val_iou: 0.4503\n",
            "Epoch 72/125\n",
            "41/41 [==============================] - 6s 155ms/step - loss: 0.0423 - acc: 0.9855 - recall: 0.8717 - precision: 0.9240 - iou: 0.6287 - val_loss: 0.0945 - val_acc: 0.9676 - val_recall: 0.6331 - val_precision: 0.7731 - val_iou: 0.4503\n",
            "Epoch 73/125\n",
            "41/41 [==============================] - 6s 157ms/step - loss: 0.0423 - acc: 0.9855 - recall: 0.8717 - precision: 0.9240 - iou: 0.6287 - val_loss: 0.0945 - val_acc: 0.9676 - val_recall: 0.6331 - val_precision: 0.7731 - val_iou: 0.4503\n",
            "Epoch 74/125\n",
            "41/41 [==============================] - 6s 157ms/step - loss: 0.0423 - acc: 0.9855 - recall: 0.8717 - precision: 0.9240 - iou: 0.6287 - val_loss: 0.0945 - val_acc: 0.9676 - val_recall: 0.6331 - val_precision: 0.7731 - val_iou: 0.4503\n",
            "Epoch 75/125\n",
            "41/41 [==============================] - 7s 159ms/step - loss: 0.0423 - acc: 0.9855 - recall: 0.8717 - precision: 0.9240 - iou: 0.6287 - val_loss: 0.0945 - val_acc: 0.9676 - val_recall: 0.6331 - val_precision: 0.7731 - val_iou: 0.4503\n"
          ],
          "name": "stdout"
        }
      ]
    },
    {
      "cell_type": "code",
      "metadata": {
        "id": "fCcIxqtazC0d"
      },
      "source": [
        "#PREDICT"
      ],
      "execution_count": null,
      "outputs": []
    },
    {
      "cell_type": "code",
      "metadata": {
        "id": "N5SNBA-NzEwy"
      },
      "source": [
        "import os\r\n",
        "import numpy as np\r\n",
        "import cv2\r\n",
        "import tensorflow as tf\r\n",
        "from tensorflow.keras.utils import CustomObjectScope\r\n",
        "from tqdm import tqdm"
      ],
      "execution_count": null,
      "outputs": []
    },
    {
      "cell_type": "code",
      "metadata": {
        "id": "ZlFzLaOzzGk9"
      },
      "source": [
        "def read_image(path):\r\n",
        "     x = cv2.imread(path, cv2.IMREAD_COLOR)\r\n",
        "     x = cv2.resize(x, (256, 256))\r\n",
        "     x = x/255.0\r\n",
        "     return x\r\n",
        "\r\n",
        "def read_mask(path):\r\n",
        "    x = cv2.imread(path, cv2.IMREAD_GRAYSCALE)\r\n",
        "    x = cv2.resize(x, (256, 256))\r\n",
        "    x = np.expand_dims(x, axis=-1)\r\n",
        "    return x"
      ],
      "execution_count": null,
      "outputs": []
    },
    {
      "cell_type": "code",
      "metadata": {
        "id": "JQcEZK4_zH-r"
      },
      "source": [
        "def mask_parse(mask):\r\n",
        "     mask = np.squeeze(mask)\r\n",
        "     mask = [mask, mask, mask]\r\n",
        "     mask = np.transpose(mask, (1, 2, 0))\r\n",
        "     return mask"
      ],
      "execution_count": null,
      "outputs": []
    },
    {
      "cell_type": "code",
      "metadata": {
        "id": "7y4NK9FAQc36"
      },
      "source": [
        "if __name__ == \"__main__\":\r\n",
        "     ## Dataset\r\n",
        "     path = \"/content/drive/My Drive/BUSI_segreg_balanced/\"\r\n",
        "     batch_size = 8\r\n",
        "     (train_x, train_y), (valid_x, valid_y), (test_x, test_y) = load_data(path)"
      ],
      "execution_count": null,
      "outputs": []
    },
    {
      "cell_type": "code",
      "metadata": {
        "id": "beE14KkOzLDp"
      },
      "source": [
        "test_dataset = tf_dataset(test_x, test_y, batch=batch_size)\r\n",
        "\r\n",
        "test_steps = (len(test_x)//batch_size)\r\n",
        "if len(test_x) % batch_size != 0:\r\n",
        "    test_steps += 1"
      ],
      "execution_count": null,
      "outputs": []
    },
    {
      "cell_type": "code",
      "metadata": {
        "id": "AqriUCEjIifx"
      },
      "source": [
        "# # Evaluate the model on the test data using `evaluate`\r\n",
        "# print(\"Evaluate on test data\")\r\n",
        "# results = model.evaluate(test_x, test_y, batch_size=8)\r\n",
        "# print(\"test loss, test acc:\", results)\r\n",
        "\r\n",
        "# # Generate predictions (probabilities -- the output of the last layer)\r\n",
        "# # on new data using `predict`\r\n",
        "# print(\"Generate predictions for 3 samples\")\r\n",
        "# predictions = model.predict(test_x[:3])\r\n",
        "# print(\"predictions shape:\", predictions.shape)"
      ],
      "execution_count": null,
      "outputs": []
    },
    {
      "cell_type": "code",
      "metadata": {
        "id": "RkUjXNoj7uCn"
      },
      "source": [
        "# model.evaluate(test_dataset, steps=test_steps)\r\n",
        "# # model.evaluate(test_dataset, batch_size=8)"
      ],
      "execution_count": null,
      "outputs": []
    },
    {
      "cell_type": "code",
      "metadata": {
        "id": "auoYveMwzMe5"
      },
      "source": [
        "with CustomObjectScope({'iou': iou}):\r\n",
        "    model = tf.keras.models.load_model(\"/content/drive/My Drive/BUSI_segreg_balanced/files/model.h5\")"
      ],
      "execution_count": null,
      "outputs": []
    },
    {
      "cell_type": "code",
      "metadata": {
        "id": "IGeXU2MYzQDS",
        "colab": {
          "base_uri": "https://localhost:8080/"
        },
        "outputId": "056cdbbc-b486-4f17-819c-afec2457e125"
      },
      "source": [
        "for i, (x, y) in tqdm(enumerate(zip(test_x, test_y)), total=len(test_x)):\r\n",
        "          x = read_image(x)\r\n",
        "          y = read_mask(y)\r\n",
        "          y_pred = model.predict(np.expand_dims(x, axis=0))[0] > 0.5\r\n",
        "          h, w, _ = x.shape\r\n",
        "          white_line = np.ones((h, 10, 3)) * 255.0\r\n",
        "          all_images = [\r\n",
        "            x * 255.0, white_line,\r\n",
        "            mask_parse(y), white_line,\r\n",
        "            mask_parse(y_pred) * 255.0\r\n",
        "          ]\r\n",
        "          image = np.concatenate(all_images, axis=1)\r\n",
        "          cv2.imwrite(f\"/content/drive/My Drive/BUSI_segreg_balanced/results_best_archi/{i}.png\", image)"
      ],
      "execution_count": null,
      "outputs": [
        {
          "output_type": "stream",
          "text": [
            "100%|██████████| 39/39 [00:03<00:00, 12.83it/s]\n"
          ],
          "name": "stderr"
        }
      ]
    },
    {
      "cell_type": "code",
      "metadata": {
        "id": "PF81tIgPco3l"
      },
      "source": [
        "#https://www.kaggle.com/rajaatif/mias-mammogram\r\n",
        "\r\n",
        "import matplotlib.pyplot as plt\r\n",
        "\r\n",
        "def hist(history):\r\n",
        "    fig, ax = plt.subplots(1, 3, figsize=(20, 5))\r\n",
        " \r\n",
        "    ax[0].plot(history.history['loss'])\r\n",
        "    ax[0].plot(history.history['val_loss'])\r\n",
        "    ax[0].legend(['Training loss', 'Validation Loss'],fontsize=18)\r\n",
        "    ax[0].set_xlabel('Epochs ',fontsize=16)\r\n",
        "    ax[0].set_ylabel('Loss',fontsize=16)\r\n",
        "    ax[0].set_title('Training loss x Validation Loss',fontsize=16)\r\n",
        " \r\n",
        " \r\n",
        "    ax[1].plot(history.history['acc'])\r\n",
        "    ax[1].plot(history.history['val_acc'])\r\n",
        "    ax[1].legend(['Training Accuracy', 'Validation Accuracy'],fontsize=18)\r\n",
        "    ax[1].set_xlabel('Epochs ',fontsize=16)\r\n",
        "    ax[1].set_ylabel('Accuracy',fontsize=16)\r\n",
        "    ax[1].set_title('Training Accuracy x Validation Accuracy',fontsize=16)\r\n",
        "\r\n",
        "    ax[2].plot(history.history['iou'])\r\n",
        "    ax[2].plot(history.history['val_iou'])\r\n",
        "    ax[2].legend(['IOU', 'Validation IOU'],fontsize=18)\r\n",
        "    ax[2].set_xlabel('Epochs ',fontsize=16)\r\n",
        "    ax[2].set_ylabel('Accuracy',fontsize=16)\r\n",
        "    ax[2].set_title('IOU x Validation IOU',fontsize=16)\r\n",
        "    \r\n",
        "def plot_any(arr, title = ''):\r\n",
        "    plt.figure(figsize = (15, 25))\r\n",
        "    for i in range(len(arr)):\r\n",
        "        plt.subplot(1,len(arr),i + 1)\r\n",
        "        plt.title(title)\r\n",
        "        plt.imshow(arr[i], cmap = 'gray');"
      ],
      "execution_count": null,
      "outputs": []
    },
    {
      "cell_type": "code",
      "metadata": {
        "colab": {
          "base_uri": "https://localhost:8080/",
          "height": 357
        },
        "id": "Oq_CX6pGcr5h",
        "outputId": "97eb6715-91e7-4864-d1af-672673f23034"
      },
      "source": [
        "hist(history)"
      ],
      "execution_count": null,
      "outputs": [
        {
          "output_type": "display_data",
          "data": {
            "image/png": "[encoded data removed]",
            "text/plain": [
              "<Figure size 1440x360 with 3 Axes>"
            ]
          },
          "metadata": {
            "tags": [],
            "needs_background": "light"
          }
        }
      ]
    },
    {
      "cell_type": "code",
      "metadata": {
        "id": "GqsJOmV5TKWa"
      },
      "source": [
        "#Szumy na zbiorze walidacyjnym można zmniejszyć, przydzielając większą część datasetu do valid_dateset. (Częstym problemem medycznych datasetów jest ich niewielka objętość.) \r\n",
        "#Split danych: 60:20:20"
      ],
      "execution_count": null,
      "outputs": []
    },
    {
      "cell_type": "code",
      "metadata": {
        "id": "SjQJOAQvQ9_Z"
      },
      "source": [
        "#credits\r\n",
        "#https://github.com/nikhilroxtomar/Polyp-Segmentation-using-UNET-in-TensorFlow-2.0"
      ],
      "execution_count": null,
      "outputs": []
    }
  ]
}
